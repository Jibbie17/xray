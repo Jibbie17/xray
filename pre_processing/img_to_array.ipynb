{
 "cells": [
  {
   "cell_type": "code",
   "execution_count": 6,
   "metadata": {},
   "outputs": [],
   "source": [
    "from pathlib import Path\n",
    "from PIL import Image\n",
    "import os"
   ]
  },
  {
   "cell_type": "code",
   "execution_count": 2,
   "metadata": {},
   "outputs": [
    {
     "data": {
      "text/plain": [
       "['.DS_Store', 'test', 'train', 'val']"
      ]
     },
     "execution_count": 2,
     "metadata": {},
     "output_type": "execute_result"
    }
   ],
   "source": [
    "# Getting the Path where the x-ray images are stored\n",
    "\n",
    "current_dir = Path.cwd()\n",
    "\n",
    "# Get the parent directory of the current file\n",
    "parent_dir = current_dir.parent\n",
    "\n",
    "# Join the parent directory with the name of the adjacent folder\n",
    "data_path = parent_dir.joinpath('data/chest_xray')\n",
    "\n",
    "\n",
    "os.listdir(data_path)"
   ]
  },
  {
   "cell_type": "code",
   "execution_count": 19,
   "metadata": {},
   "outputs": [
    {
     "name": "stdout",
     "output_type": "stream",
     "text": [
      "['.DS_Store', 'PNEUMONIA', 'NORMAL']\n",
      "['.DS_Store', 'PNEUMONIA', 'NORMAL']\n",
      "['.DS_Store', 'PNEUMONIA', 'NORMAL']\n"
     ]
    }
   ],
   "source": [
    "sum_stats = {}\n",
    "METRICS = [\"widths\", \"heights\", \"pixels_sq\", \"ratios\"]\n",
    "\n",
    "for folder_l1 in os.listdir(data_path):\n",
    "    #iterating through test, train, and val\n",
    "    if folder_l1 == '.DS_Store':\n",
    "        continue\n",
    "    fl1 = os.path.join(data_path, folder_l1)\n",
    "    \n",
    "    # checking if it is a folder\n",
    "    if not os.path.isdir(fl1):\n",
    "        continue\n",
    "    sum_stats[folder_l1] = {}\n",
    "    for folder_l2 in os.listdir(fl1):\n",
    "        #iterating through Normal and Pnemonia\n",
    "        if folder_l2 == '.DS_Store':\n",
    "            continue\n",
    "        fl2 = os.path.join(fl1, folder_l2)\n",
    "        if not os.path.isdir(fl2):\n",
    "            continue\n",
    "\n",
    "        for filename in os.listdir(fl2):\n",
    "            #iterating through images\n",
    "            if filename == '.DS_Store':\n",
    "                continue\n",
    "            f = os.path.join(data_path, filename)\n",
    "            # checking if it is a file\n",
    "            if os.path.isfile(f):\n",
    "                sum_stats[folder_l1][filename] = {}\n",
    "                image_obj = Image.open(f)\n",
    "                \n",
    "                #initializing empty lists of summary statistics\n",
    "                for m in METRICS:\n",
    "                    sum_stats[folder_l1][filename][m] = []\n",
    "\n",
    "                #fillin in the summary statistics\n",
    "                sum_stats[folder_l1][filename][\"widths\"].append(image_obj.width)\n",
    "                sum_stats[folder_l1][filename][\"heights\"].append(image_obj.height)\n",
    "                #calculating square pixels\n",
    "                square_pixels = int(image_obj.height) * int(image_obj.width)\n",
    "                sum_stats[folder_l1][filename][\"pixels_sq\"].append(square_pixels)\n",
    "\n",
    "                sum_stats[folder_l1][filename][\"ratios\"].append(int(image_obj.width)/int(image_obj.height))\n",
    "\n",
    "\n",
    "\n"
   ]
  }
 ],
 "metadata": {
  "kernelspec": {
   "display_name": "xray-O4oYoumh-py3.12",
   "language": "python",
   "name": "python3"
  },
  "language_info": {
   "codemirror_mode": {
    "name": "ipython",
    "version": 3
   },
   "file_extension": ".py",
   "mimetype": "text/x-python",
   "name": "python",
   "nbconvert_exporter": "python",
   "pygments_lexer": "ipython3",
   "version": "3.12.1"
  }
 },
 "nbformat": 4,
 "nbformat_minor": 2
}
