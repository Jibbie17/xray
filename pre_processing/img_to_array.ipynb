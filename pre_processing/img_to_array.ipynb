{
 "cells": [
  {
   "cell_type": "code",
   "execution_count": 31,
   "metadata": {},
   "outputs": [],
   "source": [
    "from pathlib import Path\n",
    "from PIL import Image\n",
    "import pandas as pd\n",
    "import json\n",
    "import os\n",
    "from collections import namedtuple"
   ]
  },
  {
   "cell_type": "code",
   "execution_count": 6,
   "metadata": {},
   "outputs": [
    {
     "data": {
      "text/plain": [
       "['.DS_Store', 'test', 'train', 'val']"
      ]
     },
     "execution_count": 6,
     "metadata": {},
     "output_type": "execute_result"
    }
   ],
   "source": [
    "# Getting the Path where the x-ray images are stored\n",
    "\n",
    "current_dir = Path.cwd()\n",
    "\n",
    "# Get the parent directory of the current file\n",
    "parent_dir = current_dir.parent\n",
    "\n",
    "# Join the parent directory with the name of the adjacent folder\n",
    "data_path = parent_dir.joinpath('data/chest_xray')\n",
    "\n",
    "\n",
    "os.listdir(data_path)"
   ]
  },
  {
   "cell_type": "code",
   "execution_count": 7,
   "metadata": {},
   "outputs": [],
   "source": [
    "\n",
    "Image_Stats =  namedtuple('Image_Stats', [\"split\", \"label\", \"width\", \"height\", \"pixels_sq\", \"ratio\"])\n",
    "\n",
    "METRICS = [\"widths\", \"heights\", \"pixels_sq\", \"ratios\"]\n",
    "def compile_stats(data_path):\n",
    "    tup_list = []\n",
    "    sum_stats = {}\n",
    "    for folder_l1 in os.listdir(data_path):     \n",
    "        #iterating through test, train, and val\n",
    "        if folder_l1 == '.DS_Store':\n",
    "            continue\n",
    "        fl1 = os.path.join(data_path, folder_l1)\n",
    "        \n",
    "        # checking if it is a folder\n",
    "        if not os.path.isdir(fl1):\n",
    "            continue\n",
    "        sum_stats[folder_l1] = {}\n",
    "        for folder_l2 in os.listdir(fl1):\n",
    "            #iterating through Normal and Pnemonia\n",
    "            if folder_l2 == '.DS_Store':\n",
    "                continue\n",
    "            fl2 = os.path.join(fl1, folder_l2)\n",
    "            if not os.path.isdir(fl2):\n",
    "                continue\n",
    "            sum_stats[folder_l1][folder_l2] = {}\n",
    "\n",
    "            for filename in os.listdir(fl2):\n",
    "                #iterating through images\n",
    "                if filename == '.DS_Store':\n",
    "                    continue\n",
    "                f = os.path.join(fl2, filename)\n",
    "                # checking if it is a file\n",
    "                if not os.path.isfile(f):\n",
    "                    continue\n",
    "                \n",
    "                \n",
    "                image_obj = Image.open(f)\n",
    "\n",
    "                #initializing empty lists of summary statistics\n",
    "                for m in METRICS:\n",
    "                    sum_stats[folder_l1][folder_l2][m] = sum_stats[folder_l1][folder_l2].get(m, [])\n",
    "\n",
    "                #fillin in the summary statistics\n",
    "                sum_stats[folder_l1][folder_l2][\"widths\"].append(image_obj.width)\n",
    "                sum_stats[folder_l1][folder_l2][\"heights\"].append(image_obj.height)\n",
    "                #calculating square pixels\n",
    "                square_pixels = int(image_obj.height) * int(image_obj.width)\n",
    "                sum_stats[folder_l1][folder_l2][\"pixels_sq\"].append(square_pixels)\n",
    "                ratio = int(image_obj.width)/int(image_obj.height)\n",
    "                sum_stats[folder_l1][folder_l2][\"ratios\"].append(ratio)\n",
    "                \n",
    "                tup =  Image_Stats(folder_l1, folder_l2, image_obj.width, image_obj.height,\n",
    "                                   square_pixels, ratio)\n",
    "                tup_list.append(tup)\n",
    "\n",
    "                del image_obj\n",
    "\n",
    "    return sum_stats, tup_list\n",
    "\n",
    "\n"
   ]
  },
  {
   "cell_type": "code",
   "execution_count": 16,
   "metadata": {},
   "outputs": [],
   "source": [
    "dic = compile_stats(data_path)\n",
    "with open('sum_stats.json', 'w') as f: json.dump(dic, f)"
   ]
  },
  {
   "cell_type": "code",
   "execution_count": 29,
   "metadata": {},
   "outputs": [
    {
     "ename": "TypeError",
     "evalue": "unhashable type: 'list'",
     "output_type": "error",
     "traceback": [
      "\u001b[0;31m---------------------------------------------------------------------------\u001b[0m",
      "\u001b[0;31mTypeError\u001b[0m                                 Traceback (most recent call last)",
      "Cell \u001b[0;32mIn[29], line 4\u001b[0m\n\u001b[1;32m      1\u001b[0m \u001b[38;5;66;03m#with open('sum_stats.json', 'r') as f:\u001b[39;00m\n\u001b[1;32m      2\u001b[0m \u001b[38;5;66;03m#    df = pd.json_normalize(f)\u001b[39;00m\n\u001b[0;32m----> 4\u001b[0m df \u001b[38;5;241m=\u001b[39m \u001b[43mpd\u001b[49m\u001b[38;5;241;43m.\u001b[39;49m\u001b[43mjson_normalize\u001b[49m\u001b[43m(\u001b[49m\u001b[43mdic\u001b[49m\u001b[43m,\u001b[49m\u001b[43m \u001b[49m\u001b[43mrecord_path\u001b[49m\u001b[38;5;241;43m=\u001b[39;49m\u001b[43m \u001b[49m\u001b[43m[\u001b[49m\u001b[43m[\u001b[49m\u001b[38;5;124;43m\"\u001b[39;49m\u001b[38;5;124;43mtest\u001b[39;49m\u001b[38;5;124;43m\"\u001b[39;49m\u001b[43m,\u001b[49m\u001b[43m \u001b[49m\u001b[38;5;124;43m\"\u001b[39;49m\u001b[38;5;124;43mtrain\u001b[39;49m\u001b[38;5;124;43m\"\u001b[39;49m\u001b[43m,\u001b[49m\u001b[43m \u001b[49m\u001b[38;5;124;43m\"\u001b[39;49m\u001b[38;5;124;43mval\u001b[39;49m\u001b[38;5;124;43m\"\u001b[39;49m\u001b[43m]\u001b[49m\u001b[43m,\u001b[49m\u001b[43m \u001b[49m\u001b[43m[\u001b[49m\u001b[38;5;124;43m\"\u001b[39;49m\u001b[38;5;124;43mNormal\u001b[39;49m\u001b[38;5;124;43m\"\u001b[39;49m\u001b[43m,\u001b[49m\u001b[43m \u001b[49m\u001b[38;5;124;43m\"\u001b[39;49m\u001b[38;5;124;43mPNEUMONIA\u001b[39;49m\u001b[38;5;124;43m\"\u001b[39;49m\u001b[43m]\u001b[49m\u001b[43m,\u001b[49m\u001b[43m \u001b[49m\u001b[43m[\u001b[49m\u001b[38;5;124;43m\"\u001b[39;49m\u001b[38;5;124;43mwidths\u001b[39;49m\u001b[38;5;124;43m\"\u001b[39;49m\u001b[43m,\u001b[49m\u001b[43m \u001b[49m\u001b[38;5;124;43m\"\u001b[39;49m\u001b[38;5;124;43mheights\u001b[39;49m\u001b[38;5;124;43m\"\u001b[39;49m\u001b[43m,\u001b[49m\u001b[43m \u001b[49m\u001b[38;5;124;43m\"\u001b[39;49m\u001b[38;5;124;43mpixels_sq\u001b[39;49m\u001b[38;5;124;43m\"\u001b[39;49m\u001b[43m,\u001b[49m\u001b[43m \u001b[49m\u001b[38;5;124;43m\"\u001b[39;49m\u001b[38;5;124;43mratios\u001b[39;49m\u001b[38;5;124;43m\"\u001b[39;49m\u001b[43m]\u001b[49m\u001b[43m]\u001b[49m\u001b[43m \u001b[49m\u001b[43m)\u001b[49m\n\u001b[1;32m      5\u001b[0m df\n",
      "File \u001b[0;32m~/Library/Caches/pypoetry/virtualenvs/xray-O4oYoumh-py3.12/lib/python3.12/site-packages/pandas/io/json/_normalize.py:517\u001b[0m, in \u001b[0;36mjson_normalize\u001b[0;34m(data, record_path, meta, meta_prefix, record_prefix, errors, sep, max_level)\u001b[0m\n\u001b[1;32m    514\u001b[0m                 meta_vals[key]\u001b[38;5;241m.\u001b[39mappend(meta_val)\n\u001b[1;32m    515\u001b[0m             records\u001b[38;5;241m.\u001b[39mextend(recs)\n\u001b[0;32m--> 517\u001b[0m \u001b[43m_recursive_extract\u001b[49m\u001b[43m(\u001b[49m\u001b[43mdata\u001b[49m\u001b[43m,\u001b[49m\u001b[43m \u001b[49m\u001b[43mrecord_path\u001b[49m\u001b[43m,\u001b[49m\u001b[43m \u001b[49m\u001b[43m{\u001b[49m\u001b[43m}\u001b[49m\u001b[43m,\u001b[49m\u001b[43m \u001b[49m\u001b[43mlevel\u001b[49m\u001b[38;5;241;43m=\u001b[39;49m\u001b[38;5;241;43m0\u001b[39;49m\u001b[43m)\u001b[49m\n\u001b[1;32m    519\u001b[0m result \u001b[38;5;241m=\u001b[39m DataFrame(records)\n\u001b[1;32m    521\u001b[0m \u001b[38;5;28;01mif\u001b[39;00m record_prefix \u001b[38;5;129;01mis\u001b[39;00m \u001b[38;5;129;01mnot\u001b[39;00m \u001b[38;5;28;01mNone\u001b[39;00m:\n",
      "File \u001b[0;32m~/Library/Caches/pypoetry/virtualenvs/xray-O4oYoumh-py3.12/lib/python3.12/site-packages/pandas/io/json/_normalize.py:496\u001b[0m, in \u001b[0;36mjson_normalize.<locals>._recursive_extract\u001b[0;34m(data, path, seen_meta, level)\u001b[0m\n\u001b[1;32m    493\u001b[0m             \u001b[38;5;28;01mif\u001b[39;00m level \u001b[38;5;241m+\u001b[39m \u001b[38;5;241m1\u001b[39m \u001b[38;5;241m==\u001b[39m \u001b[38;5;28mlen\u001b[39m(val):\n\u001b[1;32m    494\u001b[0m                 seen_meta[key] \u001b[38;5;241m=\u001b[39m _pull_field(obj, val[\u001b[38;5;241m-\u001b[39m\u001b[38;5;241m1\u001b[39m])\n\u001b[0;32m--> 496\u001b[0m         _recursive_extract(\u001b[43mobj\u001b[49m\u001b[43m[\u001b[49m\u001b[43mpath\u001b[49m\u001b[43m[\u001b[49m\u001b[38;5;241;43m0\u001b[39;49m\u001b[43m]\u001b[49m\u001b[43m]\u001b[49m, path[\u001b[38;5;241m1\u001b[39m:], seen_meta, level\u001b[38;5;241m=\u001b[39mlevel \u001b[38;5;241m+\u001b[39m \u001b[38;5;241m1\u001b[39m)\n\u001b[1;32m    497\u001b[0m \u001b[38;5;28;01melse\u001b[39;00m:\n\u001b[1;32m    498\u001b[0m     \u001b[38;5;28;01mfor\u001b[39;00m obj \u001b[38;5;129;01min\u001b[39;00m data:\n",
      "\u001b[0;31mTypeError\u001b[0m: unhashable type: 'list'"
     ]
    }
   ],
   "source": [
    "#with open('sum_stats.json', 'r') as f:\n",
    "#    df = pd.json_normalize(f)\n",
    "\n",
    "df = pd.json_normalize(dic, record_path= [[\"test\", \"train\", \"val\"], [\"Normal\", \"PNEUMONIA\"], ] )\n",
    "df"
   ]
  }
 ],
 "metadata": {
  "kernelspec": {
   "display_name": "xray-O4oYoumh-py3.12",
   "language": "python",
   "name": "python3"
  },
  "language_info": {
   "codemirror_mode": {
    "name": "ipython",
    "version": 3
   },
   "file_extension": ".py",
   "mimetype": "text/x-python",
   "name": "python",
   "nbconvert_exporter": "python",
   "pygments_lexer": "ipython3",
   "version": "3.12.1"
  }
 },
 "nbformat": 4,
 "nbformat_minor": 2
}
