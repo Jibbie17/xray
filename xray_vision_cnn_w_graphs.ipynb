{
  "cells": [
    {
      "cell_type": "markdown",
      "metadata": {
        "colab_type": "text",
        "id": "view-in-github"
      },
      "source": [
        "<a href=\"https://colab.research.google.com/github/Jibbie17/xray/blob/main/xray_vision_cnn.ipynb\" target=\"_parent\"><img src=\"https://colab.research.google.com/assets/colab-badge.svg\" alt=\"Open In Colab\"/></a>"
      ]
    },
    {
      "cell_type": "markdown",
      "metadata": {
        "id": "Q46wW7Cs9oE6"
      },
      "source": [
        "Team: X-Ray Vision\n",
        "Group Members:\n",
        "- Gabriel Barrett\n",
        "- Ruben Gallardo\n",
        "- Zewei (Whiskey) Liao"
      ]
    },
    {
      "cell_type": "markdown",
      "metadata": {
        "id": "m_pZby8o8O2y"
      },
      "source": [
        "# Set-Up"
      ]
    },
    {
      "cell_type": "markdown",
      "metadata": {},
      "source": [
        "## Local Set-Up"
      ]
    },
    {
      "cell_type": "code",
      "execution_count": 2,
      "metadata": {
        "id": "p-8fiUx2B9oa"
      },
      "outputs": [],
      "source": [
        "cwd = os.getcwd()\n",
        "#data_folder_path = '/Users/rubengallardo/Documents/GitHub/Spring_2024/ml_project/data-pooled-for-resplit/'\n",
        "\n",
        "data_folder_path = cwd + '/data/'\n",
        "data_csv_path = data_folder_path + \"data.csv\"\n",
        "aug_data_csv_path = data_folder_path + \"data_aug.csv\"\n"
      ]
    },
    {
      "cell_type": "code",
      "execution_count": 3,
      "metadata": {
        "id": "ZG7EJMSj9oE8"
      },
      "outputs": [],
      "source": [
        "from pathlib import Path\n",
        "from PIL import Image\n",
        "import pandas as pd\n",
        "import json\n",
        "import os\n",
        "from collections import namedtuple\n",
        "import matplotlib.pyplot as plt\n",
        "from torch.utils import data\n",
        "from torch.utils.data import Dataset, DataLoader\n",
        "import torchvision.transforms as T\n",
        "from torchvision.io import read_image\n",
        "import re\n",
        "from sklearn.model_selection import train_test_split\n",
        "import logging\n",
        "import pickle\n",
        "import lightning as L\n",
        "\n",
        "# Set up logging to file and console\n",
        "logging.basicConfig(\n",
        "    level = logging.INFO,\n",
        "    format = '%(asctime)s:%(levelname)s:%(message)s',\n",
        "    handlers = [logging.FileHandler(\"xray-cnn.log\"),\n",
        "              logging.StreamHandler()])"
      ]
    },
    {
      "cell_type": "markdown",
      "metadata": {
        "id": "q8sT84sWop4y"
      },
      "source": [
        "# Resplit the Dataset [Run Once]"
      ]
    },
    {
      "cell_type": "code",
      "execution_count": 4,
      "metadata": {
        "colab": {
          "base_uri": "https://localhost:8080/"
        },
        "id": "9V3GSXKSopTw",
        "outputId": "9141099b-2da5-4c77-9732-86136f0f297d"
      },
      "outputs": [
        {
          "name": "stdout",
          "output_type": "stream",
          "text": [
            "split\n",
            "train    4099\n",
            "test     1172\n",
            "valid     585\n",
            "Name: count, dtype: int64\n",
            "split\n",
            "train    6315\n",
            "test     1172\n",
            "valid     585\n",
            "Name: count, dtype: int64\n"
          ]
        }
      ],
      "source": [
        "Image_Stats = namedtuple('Image_Stats', [\"label\", \"image_name\", \"path\"])\n",
        "\n",
        "def construct_df(data_folder_path):\n",
        "    '''\n",
        "    Pull the label, file name, and file path of each image and compile into a df\n",
        "    for later re-spliting.\n",
        "    '''\n",
        "    # a list of tuples for later conversion into pandas df\n",
        "    tup_list = []\n",
        "\n",
        "    # loop over the only two options of subfolders: NORMAL or PNEUMONIA\n",
        "    for folder_name in [\"NORMAL\", \"PNEUMONIA\"]:\n",
        "      folder_path = os.path.join(data_folder_path, folder_name)\n",
        "\n",
        "      # loop over each x-ray image file\n",
        "      for file_name in os.listdir(folder_path):\n",
        "        if file_name == '.DS_Store':\n",
        "          continue\n",
        "        file_path = os.path.join(folder_path, file_name)\n",
        "        if os.path.isfile(file_path):\n",
        "          img_label = 1 if folder_name == 'PNEUMONIA' else 0\n",
        "          # compile into a tuple for each image\n",
        "          tup = Image_Stats(img_label, file_name, file_path)\n",
        "          tup_list.append(tup)\n",
        "\n",
        "    return tup_list\n",
        "\n",
        "tup_list = construct_df(data_folder_path)\n",
        "df_before_resplit = pd.DataFrame(tup_list).reset_index()\n",
        "\n",
        "# RESPLIT\n",
        "# Splitting data into train and temp (temp will be split into validation and test)\n",
        "train, temp = train_test_split(\n",
        "  df_before_resplit, test_size=0.3, \n",
        "  stratify=df_before_resplit['label'], random_state=42)\n",
        "\n",
        "# Splitting temp into validation and test\n",
        "valid, test = train_test_split(temp, test_size=(2/3), stratify=temp['label'], random_state=42)\n",
        "\n",
        "# Assigning split labels\n",
        "train['split'] = 'train'\n",
        "valid['split'] = 'valid'\n",
        "test['split'] = 'test'\n",
        "\n",
        "# Combining the splits back into a single DataFrame\n",
        "df_resplit = pd.concat([train, valid, test])\n",
        "\n",
        "# Verifying the splits\n",
        "print(df_resplit['split'].value_counts())\n",
        "\n",
        "# create two copies of the normal training data\n",
        "normal_train_images = df_resplit.loc[(df_resplit['label'] == 0) & (df_resplit['split'] == 'train')]\n",
        "# add these copies to our training dataset to help with the class imbalance problem\n",
        "df_aug = pd.concat([df_resplit, normal_train_images, normal_train_images]).reset_index(drop=True)\n",
        "\n",
        "# save it to a new path\n",
        "df_aug.to_csv(aug_data_csv_path, index = False)\n",
        "print(df_aug['split'].value_counts())"
      ]
    },
    {
      "cell_type": "markdown",
      "metadata": {
        "id": "l0dLZ6l39oE9"
      },
      "source": [
        "# Pre-Processing & Summary Stats [Don't Run]"
      ]
    },
    {
      "cell_type": "code",
      "execution_count": null,
      "metadata": {
        "id": "jjQCX9ji9oE-"
      },
      "outputs": [],
      "source": [
        "Image_Stats = namedtuple('Image_Stats', [\"split\", \"label\", \"sick_type\", \"width\", \"height\", \"pixels_sq\", \"ratio\", \"channels\", \"image_name\", \"path\"])\n",
        "\n",
        "METRICS = [\"widths\", \"heights\", \"pixels_sq\", \"ratios\", \"channels\"]\n",
        "\n",
        "def compile_stats(data_path):\n",
        "    '''\n",
        "    This function takes a path that specifies the root directory where the\n",
        "    data folders are located, finds each file and saves each file's\n",
        "    reference information in a named tuple called \"Image_Stats.\" This function\n",
        "    then returns a list of the named tuples and a dicitonary of summary statistics\n",
        "    that summarizes statistics for all of the tuples.\n",
        "\n",
        "    Takes: data_path (str), a string specifying the root of the directory where\n",
        "    the path is located.\n",
        "\n",
        "    Returns:\n",
        "\n",
        "    '''\n",
        "    # a list of tuples for later conversion into pandas df\n",
        "    tup_list = []\n",
        "    sum_stats = {}\n",
        "\n",
        "    # iterate through the level 1 folders -- test, train, and val\n",
        "    for folder_l1 in os.listdir(data_path):\n",
        "        # ignore the irrelevant doc / folders\n",
        "        if folder_l1 in ('.DS_Store', '__MACOSX'):\n",
        "            continue\n",
        "        fl1 = os.path.join(data_path, folder_l1)\n",
        "\n",
        "        # checking if it is a folder\n",
        "        if not os.path.isdir(fl1):\n",
        "            continue\n",
        "        sum_stats[folder_l1] = {}\n",
        "        for folder_l2 in os.listdir(fl1):\n",
        "            # iterating through Normal and Pnemonia\n",
        "            if folder_l2 == '.DS_Store':\n",
        "                continue\n",
        "            fl2 = os.path.join(fl1, folder_l2)\n",
        "            if not os.path.isdir(fl2):\n",
        "                continue\n",
        "            sum_stats[folder_l1][folder_l2] = {}\n",
        "\n",
        "            for filename in os.listdir(fl2):\n",
        "                # iterating through images\n",
        "                if filename == '.DS_Store':\n",
        "                    continue\n",
        "                f = os.path.join(fl2, filename)\n",
        "                # checking if it is a file\n",
        "                if not os.path.isfile(f):\n",
        "                    continue\n",
        "\n",
        "                image_obj = Image.open(f)\n",
        "\n",
        "                #initializing empty lists of summary statistics\n",
        "                for m in METRICS:\n",
        "                    sum_stats[folder_l1][folder_l2][m] = sum_stats[folder_l1][folder_l2].get(m, [])\n",
        "\n",
        "                #fillin in the summary statistics\n",
        "                sum_stats[folder_l1][folder_l2][\"widths\"].append(image_obj.width)\n",
        "                sum_stats[folder_l1][folder_l2][\"heights\"].append(image_obj.height)\n",
        "\n",
        "                #calculating square pixels\n",
        "                square_pixels = int(image_obj.height) * int(image_obj.width)\n",
        "                sum_stats[folder_l1][folder_l2][\"pixels_sq\"].append(square_pixels)\n",
        "\n",
        "                ratio = int(image_obj.width)/int(image_obj.height)\n",
        "                sum_stats[folder_l1][folder_l2][\"ratios\"].append(ratio)\n",
        "\n",
        "                #counting the number of layers / channels\n",
        "                channels = image_obj.getbands()\n",
        "                sum_stats[folder_l1][folder_l2][\"channels\"].append(len(channels))\n",
        "\n",
        "                img_label = 1 if folder_l2 == 'PNEUMONIA' else 0\n",
        "\n",
        "                # Checking if the Label is Bacteria or Virus\n",
        "                if folder_l2 == 'PNEUMONIA':\n",
        "                    str_path = str(filename)\n",
        "                    if re.search(\"virus\", str_path):\n",
        "                        sick = \"Virus\"\n",
        "                    else:\n",
        "                        sick = \"Bacteria\"\n",
        "                else:\n",
        "                    sick = \"Normal\"\n",
        "\n",
        "                tup = Image_Stats(folder_l1, img_label, sick, image_obj.width, image_obj.height, square_pixels, ratio, len(channels), filename, f)\n",
        "                tup_list.append(tup)\n",
        "\n",
        "                del image_obj\n",
        "\n",
        "    return sum_stats, tup_list"
      ]
    },
    {
      "cell_type": "code",
      "execution_count": null,
      "metadata": {
        "id": "rq_sZHQc9oE-"
      },
      "outputs": [],
      "source": [
        "dic, tup_list = compile_stats(data_folder_path)\n",
        "df = pd.DataFrame(tup_list)\n",
        "\n",
        "# Verify DataFrame\n",
        "df.head(10)"
      ]
    },
    {
      "cell_type": "code",
      "execution_count": null,
      "metadata": {
        "colab": {
          "base_uri": "https://localhost:8080/",
          "height": 206
        },
        "id": "k7l5Bt7WgzE4",
        "outputId": "c46606f5-0440-4931-83ec-bc9b08c3af12"
      },
      "outputs": [],
      "source": [
        "# reload the data df\n",
        "df = pd.read_csv(data_csv_path)\n",
        "df.head(5)"
      ]
    },
    {
      "cell_type": "code",
      "execution_count": null,
      "metadata": {
        "id": "04qW-T3OfsLn"
      },
      "outputs": [],
      "source": [
        "# save\n",
        "df.to_csv(data_csv_path, index = False)"
      ]
    },
    {
      "cell_type": "code",
      "execution_count": null,
      "metadata": {
        "id": "kicWJFu_9oE_"
      },
      "outputs": [],
      "source": [
        "df[\"ratio\"].mean()\n",
        "\n",
        "#Presenting the averages for each summary statistic.\n",
        "\n",
        "df[[\"width\", \"height\", \"ratio\", \"channels\"]].mean()"
      ]
    },
    {
      "cell_type": "code",
      "execution_count": null,
      "metadata": {
        "id": "FWl_HGXh9oE_"
      },
      "outputs": [],
      "source": [
        "# Ploting the distributing of each summary statistic.\n",
        "df[[\"width\", \"height\", \"ratio\", \"channels\"]].hist()"
      ]
    },
    {
      "cell_type": "markdown",
      "metadata": {
        "id": "VOTKkvn49oE_"
      },
      "source": [
        "Based on these summary statistics the vast majority of images are landscape, meaning that the width is longer than the height. Almost all the images have only one channel, meaning they are in greyscale, but it appears 283 images have three channels meaning their data is held in rgb."
      ]
    },
    {
      "cell_type": "code",
      "execution_count": null,
      "metadata": {
        "colab": {
          "base_uri": "https://localhost:8080/"
        },
        "id": "EHgx9vr59oE_",
        "outputId": "15cce3b8-f124-44ea-e944-fc5d74cf43a2"
      },
      "outputs": [],
      "source": [
        "df_channels = df[[\"channels\"]]\n",
        "df_channels[df[[\"channels\"]]==3].count()"
      ]
    },
    {
      "cell_type": "markdown",
      "metadata": {
        "id": "Me22fKX99oFA"
      },
      "source": [
        "# Implement Custom Dataset & Augmentations"
      ]
    },
    {
      "cell_type": "code",
      "execution_count": null,
      "metadata": {},
      "outputs": [],
      "source": [
        "df = pd.read_csv(aug_data_csv_path)"
      ]
    },
    {
      "cell_type": "markdown",
      "metadata": {
        "id": "j5xRIR909oFA"
      },
      "source": [
        "We implemented a custom Dataset class based on [this PyTorch documentation](https://pytorch.org/tutorials/beginner/basics/data_tutorial.html#creating-a-custom-dataset-for-your-files). This class will help us do our image augmentations later on."
      ]
    },
    {
      "cell_type": "code",
      "execution_count": 5,
      "metadata": {
        "id": "58ms5NJ19oFA"
      },
      "outputs": [],
      "source": [
        "# Custom PyTorch Image Dataset Class\n",
        "# Code Resource: https://pytorch.org/tutorials/beginner/basics/data_tutreadorial.html#creating-a-custom-dataset-for-your-files\n",
        "\n",
        "# inheriting from the pytorch Dataset class\n",
        "class CustomImageDataset(Dataset): # TODO maybe change the name later on\n",
        "    def __init__(self, df, transform = None):\n",
        "        \"\"\"\n",
        "        df (pandas df): pandas dataframe\n",
        "        split: \"train\", \"valid\", or \"test\"\n",
        "        transform: Compose (a PyTorch Class) that strings together several\n",
        "        transform functions (e.g. data augmentation steps)\n",
        "        \"\"\"\n",
        "        self.df = df.reset_index(drop=True)\n",
        "        self.transform = transform\n",
        "\n",
        "    def __len__(self):\n",
        "        \"\"\"\n",
        "        Returns: (int) length of your dataset\n",
        "        \"\"\"\n",
        "        return len(self.df)\n",
        "\n",
        "    def __getitem__(self, idx):\n",
        "        \"\"\"\n",
        "        Loads and returns your sample (the image and the label) at the\n",
        "        specified index\n",
        "\n",
        "        Parameter: idx (int): index of interest\n",
        "\n",
        "        Returns: image, label\n",
        "        \"\"\"\n",
        "\n",
        "        img_path = Path(self.df.loc[idx, 'path'])\n",
        "        image = Image.open(img_path).convert('RGB')\n",
        "        label = self.df.loc[idx, 'label']\n",
        "\n",
        "        # Image Transformation\n",
        "        if self.transform:\n",
        "            image = self.transform(image)\n",
        "\n",
        "        # Returns augmented and/or normalized image with label\n",
        "        return image, label"
      ]
    },
    {
      "cell_type": "code",
      "execution_count": 6,
      "metadata": {
        "id": "t2YdVxe09oFB"
      },
      "outputs": [],
      "source": [
        "# Augmentation for Training Data\n",
        "# The augmentations below are the new ones that I took from: https://www.ncbi.nlm.nih.gov/pmc/articles/PMC8330434/\n",
        "augmentations = T.Compose([\n",
        "    T.Resize((256, 256)),\n",
        "\n",
        "    # every image has 50/50 chance of being flipped horizontally\n",
        "    T.RandomHorizontalFlip(p=0.5),\n",
        "\n",
        "    # every image will be rescaled and cropped, but how it gets rescaled and cropped will be random\n",
        "    # scale param defines the range of the area of the image to be used in the crop.\n",
        "    # (scale = 0.8, 1.0) means the cropped area will be at least 80% to 100% of the image area\n",
        "    # ratio param defines the range of aspect ratios for the cropped area\n",
        "    # 0.75 means the aspect ratio (width/height) can be as low as 3:4\n",
        "    # 1.33 means the aspect ratio (width/height) can be as high as 4:3\n",
        "    T.RandomResizedCrop(size=(256, 256), scale=(0.8, 1.0), ratio=(0.75, 1.33)),\n",
        "\n",
        "    # The brightness and contrast of every image will be randomly changed\n",
        "    # brightness=0.2 means the brightness factor is chosen randomly from the range [0.8, 1.2]\n",
        "    # contrast=0.2 means the contrast factor is chosen randomly from the range [0.8, 1.2]\n",
        "    T.ColorJitter(brightness=0.2, contrast=0.2),\n",
        "\n",
        "    # All images are rotated by a random angle within the range [-10, 10]\n",
        "    # Notice that 0 is included in the range, which means some images will NOT be rotated\n",
        "    T.RandomRotation(degrees=10), # Random rotation\n",
        "\n",
        "    # RandomApply applies a list of transformations randomly based on the given probability (p=0.5)\n",
        "    # kernel_size=(5,5): This specifies the size of the Gaussian kernel. In this case, the kernel is a 5x5 matrix.\n",
        "    # sigma=(0.1, 0.2): This specifies the range of standard deviation for the Gaussian kernel.\n",
        "    # The actual standard deviation used for blurring is chosen randomly from the range [0.1, 0.2]\n",
        "    T.RandomApply([\n",
        "            T.GaussianBlur(kernel_size=(5,5), sigma=(0.1, 0.2))\n",
        "        ], p=0.5),\n",
        "\n",
        "    # The two transformations below make the images compatible with the dataloader and model\n",
        "    T.Grayscale(num_output_channels=1),  # Convert images to grayscale\n",
        "    T.ToTensor()  # Convert images to tensors\n",
        "])\n",
        "\n",
        "# Normalization for Validation and Test datasets\n",
        "normalizations = T.Compose([\n",
        "    T.Resize((256, 256)),\n",
        "    T.Grayscale(num_output_channels=1),  # Convert images to grayscale\n",
        "    T.ToTensor()\n",
        "])"
      ]
    },
    {
      "cell_type": "markdown",
      "metadata": {
        "id": "g9QZetbG9oFE"
      },
      "source": [
        "# Split, Summarize, Load Data"
      ]
    },
    {
      "cell_type": "markdown",
      "metadata": {
        "id": "cTFKflPs9oFE"
      },
      "source": [
        "After extracting the summary statistics of our images and storing them in a DataFrame, we prepared the data for the DataLoader by separating out the summary statistic into a training, test, and validation DataFrame. We also created a table that shows how many images fall into the normal or pneumonia group for each dataset."
      ]
    },
    {
      "cell_type": "code",
      "execution_count": 7,
      "metadata": {
        "colab": {
          "base_uri": "https://localhost:8080/",
          "height": 143
        },
        "id": "pjLoha9u9oFE",
        "outputId": "706615c4-1e87-47e3-e8e7-6ecd11a4c6cb"
      },
      "outputs": [
        {
          "data": {
            "text/html": [
              "<div>\n",
              "<style scoped>\n",
              "    .dataframe tbody tr th:only-of-type {\n",
              "        vertical-align: middle;\n",
              "    }\n",
              "\n",
              "    .dataframe tbody tr th {\n",
              "        vertical-align: top;\n",
              "    }\n",
              "\n",
              "    .dataframe thead th {\n",
              "        text-align: right;\n",
              "    }\n",
              "</style>\n",
              "<table border=\"1\" class=\"dataframe\">\n",
              "  <thead>\n",
              "    <tr style=\"text-align: right;\">\n",
              "      <th></th>\n",
              "      <th>Normal</th>\n",
              "      <th>Pneumonia</th>\n",
              "    </tr>\n",
              "  </thead>\n",
              "  <tbody>\n",
              "    <tr>\n",
              "      <th>Train</th>\n",
              "      <td>3324</td>\n",
              "      <td>2991</td>\n",
              "    </tr>\n",
              "    <tr>\n",
              "      <th>Validation</th>\n",
              "      <td>158</td>\n",
              "      <td>427</td>\n",
              "    </tr>\n",
              "    <tr>\n",
              "      <th>Test</th>\n",
              "      <td>317</td>\n",
              "      <td>855</td>\n",
              "    </tr>\n",
              "  </tbody>\n",
              "</table>\n",
              "</div>"
            ],
            "text/plain": [
              "            Normal  Pneumonia\n",
              "Train         3324       2991\n",
              "Validation     158        427\n",
              "Test           317        855"
            ]
          },
          "execution_count": 7,
          "metadata": {},
          "output_type": "execute_result"
        }
      ],
      "source": [
        "# Creating separate DataFrame's for the training, validation, and test set\n",
        "test_df = df.loc[df.loc[:, 'split'] == 'test']\n",
        "train_df = df.loc[df.loc[:, 'split']=='train']\n",
        "valid_df = df.loc[df.loc[:, 'split'] == 'valid']\n",
        "\n",
        "# Count the occurrences of each label\n",
        "train_counts = train_df['label'].value_counts().sort_index()\n",
        "val_counts = valid_df['label'].value_counts().sort_index()\n",
        "test_counts = test_df['label'].value_counts().sort_index()\n",
        "\n",
        "# Prepare Data for summary table\n",
        "summary_data = {\n",
        "    'Normal': [train_counts.get(0, 0), val_counts.get(0, 0), test_counts.get(0, 0)],\n",
        "    'Pneumonia': [train_counts.get(1, 0), val_counts.get(1, 0), test_counts.get(1, 0)]\n",
        "}\n",
        "\n",
        "# Create a summary table\n",
        "summary_df = pd.DataFrame(summary_data, index=['Train', 'Validation', 'Test'])\n",
        "summary_df"
      ]
    },
    {
      "cell_type": "markdown",
      "metadata": {
        "id": "saa0z4AZ9oFF"
      },
      "source": [
        "## Implement Data Loader"
      ]
    },
    {
      "cell_type": "markdown",
      "metadata": {
        "id": "gGNJUTwq9oFF"
      },
      "source": [
        "Based on [this PyTorch documentation](https://pytorch.org/tutorials/beginner/basics/data_tutorial.html#preparing-your-data-for-training-with-dataloaders), we passed each dataset to a DataLoader. As the documentation states, this will help us pass random mini-batches of the data to our model."
      ]
    },
    {
      "cell_type": "code",
      "execution_count": 14,
      "metadata": {
        "id": "Y7dTnjIQ9oFF"
      },
      "outputs": [],
      "source": [
        "# Creating a CustomImageDataset object for each dataset\n",
        "train_data = CustomImageDataset(train_df, augmentations) # changed parameter from augmentations to old_augmentations\n",
        "valid_data = CustomImageDataset(valid_df, normalizations)\n",
        "test_data = CustomImageDataset(test_df, normalizations)\n",
        "\n",
        "# Source: https://pytorch.org/tutorials/beginner/basics/data_tutorial.html#creating-a-custom-dataset-for-your-files\n",
        "train_dataloader = DataLoader(train_data, batch_size=64, shuffle=True)\n",
        "val_dataloader = DataLoader(valid_data, batch_size=64, shuffle=True)\n",
        "test_dataloader = DataLoader(test_data, batch_size=64, shuffle=True)"
      ]
    },
    {
      "cell_type": "markdown",
      "metadata": {
        "id": "Bcm836-6FNLY"
      },
      "source": [
        "# Building the Neural Network"
      ]
    },
    {
      "cell_type": "code",
      "execution_count": 9,
      "metadata": {
        "id": "Oy6ioZXM1uPa"
      },
      "outputs": [],
      "source": [
        "import torch\n",
        "import torch.nn as nn # basic building block for neural neteorks\n",
        "import torch.nn.functional as F # import convolution functions like Relu\n",
        "import torch.optim as optim # optimzer\n",
        "from sklearn.metrics import roc_curve, roc_auc_score, confusion_matrix, ConfusionMatrixDisplay, recall_score, RocCurveDisplay\n",
        "import numpy as np\n",
        "import matplotlib.pyplot as plt"
      ]
    },
    {
      "cell_type": "markdown",
      "metadata": {},
      "source": [
        "## [IGNORE] Pickle"
      ]
    },
    {
      "cell_type": "code",
      "execution_count": null,
      "metadata": {},
      "outputs": [],
      "source": [
        "result_dict = {\n",
        "    \"train_losses\": train_losses, \"train_accuracies\": train_accuracies,\n",
        "    \"val_losses\": val_losses, \"val_accuracies\": val_accuracies\n",
        "}\n",
        "\n",
        "# Serializing the object (saving to a file)\n",
        "with open('pickle_test.pkl', 'wb') as file:\n",
        "    pickle.dump(result_dict, file)"
      ]
    },
    {
      "cell_type": "markdown",
      "metadata": {},
      "source": [
        "## [OLD CODE from May 17] Lightening"
      ]
    },
    {
      "cell_type": "markdown",
      "metadata": {},
      "source": [
        "The following section refactors the previous code into a OOP framework using PyTorch Lightening."
      ]
    },
    {
      "cell_type": "code",
      "execution_count": null,
      "metadata": {},
      "outputs": [],
      "source": [
        "class CNN_L(L.LightningModule):\n",
        "  '''\n",
        "  inspire by Turing award winning LeCun, Bengio and Hinton's paper from 1998\n",
        "  https://ieeexplore.ieee.org/document/726791 (cited more than 25,000 times!!!!!!!!!)\n",
        "  code from https://blog.paperspace.com/writing-lenet5-from-scratch-in-python/\n",
        "  '''\n",
        "  def __init__(self, lr = 0.001, loss_fn = nn.CrossEntropyLoss()):\n",
        "    '''\n",
        "    TODO: hyperparameters:\n",
        "    - learning rate\n",
        "    - loss function (criteria)\n",
        "    '''\n",
        "    super(CNN_L, self).__init__()\n",
        "    self.lr = lr # learning rate\n",
        "    self.loss_fn = loss_fn # loss function\n",
        "    # The attributes below let us save all of the predictions and actual labels in the class\n",
        "    # when we are ready to evaluate. These are set in predict_all as numpy arrays.\n",
        "    # objects.\n",
        "    self.predictions = None\n",
        "    self.y = None\n",
        "    # The y_score is the \"predicted probability\" as opposed to the prediciton\n",
        "    # This is needed for the ROC-AUC curve\n",
        "    self.y_score = None\n",
        "    # We will save our metrics in a dictionary. The dictioary will be filled on a\n",
        "    # call to evaluate_model ()\n",
        "    self.metrics = {}\n",
        "\n",
        "    self.LeNet = nn.Sequential(\n",
        "        # convolutional layers\n",
        "        nn.Sequential(                                            # FIRST LAYER: (INPUT LAYER)\n",
        "          nn.Conv2d(in_channels = 1, out_channels = 6, kernel_size = 5, stride= 1, padding = 0),    # CONVOLUTION\n",
        "          # Matches the number of output channels from the previous layer.\n",
        "          # This normalizes the output from the convolution layer, stabilizing the learning process.\n",
        "          nn.BatchNorm2d(num_features = 6),\n",
        "          nn.ReLU(),\n",
        "          nn.MaxPool2d(kernel_size = 2, stride = 2)),             # POOLING\n",
        "        nn.Sequential(                                            # SECOND LAYER: HIDDEN LAYER 1\n",
        "          nn.Conv2d(in_channels = 6, out_channels = 16, kernel_size = 5, stride = 1, padding = 0),   # CONVOLUTION\n",
        "          nn.BatchNorm2d(num_features = 16),\n",
        "          nn.ReLU(),\n",
        "          nn.MaxPool2d(kernel_size = 2, stride = 2)),             # POOLING\n",
        "        # fully connected layers\n",
        "        nn.Flatten(),\n",
        "        nn.Linear(in_features = 59536, out_features = 120),                                   # THIRD LAYER: LINEAR YEAR, HIDDEN LAYER 2\n",
        "        nn.ReLU(),                                                # HIDDEN LAYER's ACTIVATION FUNCION\n",
        "        nn.Linear(in_features = 120, out_features = 84),                                       # FOURTH LAYER: LINEAR YEAR, HIDDEN LAYER 3\n",
        "        nn.ReLU(),                                                # HIDDEN LAYER's ACTIVATION FUNCION\n",
        "        # output layer\n",
        "        nn.Linear(in_features = 84, out_features = 2)                                          # OUTPUT LAYER\n",
        "    )\n",
        "\n",
        "  def training_step(self, batch, batch_idx):\n",
        "    '''\n",
        "    This is an inherited method from LightningModule, do not change its name.\n",
        "    \n",
        "    Parameters:\n",
        "    - batch: The output of your data iterable, normally a DataLoader.\n",
        "    - batch_idx: The index of this batch.\n",
        "    '''\n",
        "    logging.debug(f\"currently at {batch_idx}-th batch\")\n",
        "    inputs, labels = batch\n",
        "    outputs = self(inputs)\n",
        "    loss = self.loss_fn(outputs, labels)  \n",
        "    _, predicted = torch.max(outputs, 1)\n",
        "    acc = (predicted == labels).sum().item() / labels.size(0)\n",
        "    logging.debug(f\"prediction = {predicted}, acc = {acc}\")\n",
        "    self.log('train_loss', loss, prog_bar=True)\n",
        "    self.log('train_acc', acc, prog_bar=True)\n",
        "    \n",
        "    return loss\n",
        "\n",
        "  def validation_step(self, batch, batch_idx):\n",
        "    inputs, labels = batch\n",
        "    outputs = self(inputs)\n",
        "    loss = self.loss_fn(outputs, labels)\n",
        "    \n",
        "    _, predicted = torch.max(outputs, 1)\n",
        "    acc = (predicted == labels).sum().item() / labels.size(0)\n",
        "    \n",
        "    self.log('val_loss', loss, prog_bar=True)\n",
        "    self.log('val_acc', acc, prog_bar=True)\n",
        "\n",
        "    return loss\n",
        "  \n",
        "  def test_step(self, batch, batch_idx):\n",
        "        inputs, labels = batch\n",
        "        outputs = self(inputs)\n",
        "        loss = self.loss_fn(outputs, labels)\n",
        "        _, predicted = torch.max(outputs, 1)\n",
        "        acc = (predicted == labels).sum().item() / labels.size(0)\n",
        "        self.log('test_loss', loss, prog_bar=True)\n",
        "        self.log('test_acc', acc, prog_bar=True)\n",
        "        return loss\n",
        "\n",
        "  def configure_optimizers(self):\n",
        "    '''\n",
        "    This is an inherited method from LightningModule, do not change its name.\n",
        "    '''\n",
        "    optimizer = optim.SGD(self.parameters(), lr = self.lr, momentum=0.9)\n",
        "    return optimizer\n",
        "\n",
        "  def forward(self, x):\n",
        "    out = self.LeNet(x)\n",
        "    # logging.debug(f\"Input shape: {x.shape}, Output shape: {out.shape}\")\n",
        "    return out\n",
        "\n",
        "  def confusion_matrix(self):\n",
        "    cm = confusion_matrix(self.y, self.predictions)\n",
        "    ConfusionMatrixDisplay(cm).plot()\n",
        "\n",
        "  def roc_curve(self):\n",
        "    # This function returns an roc curve, which graphs the false positive\n",
        "    # and true positive rate.\n",
        "    if self.y is None or self.predictions is None:\n",
        "      self.predict_all()\n",
        "    false_pos_rate, true_pos_rate, thresholds = roc_curve(self.y, self.predictions)\n",
        "    # Plot the curve\n",
        "    plt.plot(false_pos_rate, true_pos_rate)\n",
        "    plt.xlabel('False Positive Rate')\n",
        "    plt.ylabel('True Positive Rate')\n",
        "    plt.title('ROC Curve')\n",
        "    plt.show()\n",
        "\n",
        "  def evaluate_model(self, re_test = False):\n",
        "    '''\n",
        "    '''\n",
        "    if self.predictions is None or self.y is None or re_test is True:\n",
        "      self.predict_all()\n",
        "    # calculate accuracy\n",
        "    total_tests = len(self.y)\n",
        "    got_right = np.sum((self.y == self.predictions))\n",
        "    acc = got_right/total_tests\n",
        "    self.metrics[\"accuracy\"] = acc\n",
        "    # calculate recall\n",
        "    recall = recall_score(self.predictions, self.y)\n",
        "    self.metrics[\"recall\"] = recall\n",
        "    # area under the roc curve\n",
        "    self.metrics[\"auc_roc\"] = roc_auc_score(self.predictions,self.y)\n",
        "\n",
        "\n",
        "  def predict_all(self, data_loader):\n",
        "      self.train()\n",
        "      beta_list = []\n",
        "      y_list= []\n",
        "      y_score_list = []\n",
        "      for i, data in enumerate(data_loader):\n",
        "        x, y = data\n",
        "        outputs = self(x)\n",
        "        max_value, predicted = torch.max(outputs.data, 1)\n",
        "        y_list.append(y)\n",
        "        beta_list.append(predicted)\n",
        "      # We combine each lists (predictions and label) then convert them\n",
        "      # to numpy arrays\n",
        "      self.predictions = torch.cat(beta_list, dim = 0).detach().cpu().numpy()\n",
        "      self.y = torch.cat(y_list, dim = 0).detach().cpu().numpy()"
      ]
    },
    {
      "cell_type": "code",
      "execution_count": null,
      "metadata": {},
      "outputs": [],
      "source": [
        "cnn = CNN_L()\n",
        "trainer = L.Trainer(max_epochs=5)\n",
        "trainer.fit(model=cnn, train_dataloaders=train_dataloader, val_dataloaders=val_dataloader)\n",
        "trainer.test(model=cnn, dataloaders=val_dataloader)"
      ]
    },
    {
      "cell_type": "markdown",
      "metadata": {},
      "source": [
        "# [!LATEST] Lightening w/Graphs"
      ]
    },
    {
      "cell_type": "code",
      "execution_count": 15,
      "metadata": {},
      "outputs": [],
      "source": [
        "from pytorch_lightning.callbacks import Callback\n",
        "import pytorch_lightning as pl # pytorch_lightning & Lightning are supposed to be the same\n",
        "\n",
        "class MetricLogger(Callback):\n",
        "    def __init__(self):\n",
        "        super(MetricLogger, self).__init__()  # Ensure the parent class is initialized\n",
        "        self.train_acc = []\n",
        "        self.val_acc = []\n",
        "        self.train_loss = []\n",
        "        self.val_loss = []\n",
        "        self.recall = []\n",
        "        self.auc_roc = []\n",
        "\n",
        "    def on_train_epoch_end(self, trainer, pl_module):\n",
        "        train_acc = trainer.callback_metrics.get('train_acc')\n",
        "        train_loss = trainer.callback_metrics.get('train_loss')\n",
        "        if train_acc is not None:\n",
        "            self.train_acc.append(train_acc.item())\n",
        "        if train_loss is not None:\n",
        "            self.train_loss.append(train_loss.item())\n",
        "\n",
        "    def on_validation_epoch_end(self, trainer, pl_module):\n",
        "        if trainer.sanity_checking:\n",
        "            return  # Skip logging during the sanity check\n",
        "        val_acc = trainer.callback_metrics.get('val_acc')\n",
        "        val_loss = trainer.callback_metrics.get('val_loss')\n",
        "        if val_acc is not None:\n",
        "            self.val_acc.append(val_acc.item())\n",
        "        if val_loss is not None:\n",
        "            self.val_loss.append(val_loss.item())\n",
        "\n",
        "        # Calculate additional metrics\n",
        "        val_preds = []\n",
        "        val_labels = []\n",
        "        device = next(trainer.model.parameters()).device\n",
        "        for batch in trainer.val_dataloaders:\n",
        "            x, y = batch\n",
        "            x, y = x.to(device), y.to(device)\n",
        "            preds = trainer.model(x)\n",
        "            _, predicted = torch.max(preds, 1)\n",
        "            val_preds.extend(predicted.cpu().numpy())\n",
        "            val_labels.extend(y.cpu().numpy())\n",
        "        \n",
        "        recall = recall_score(val_labels, val_preds, average='macro')\n",
        "        auc_roc = roc_auc_score(val_labels, val_preds, multi_class='ovr')\n",
        "        self.recall.append(recall)\n",
        "        self.auc_roc.append(auc_roc)\n",
        "    \n",
        "    def reset_metrics(self):\n",
        "        self.train_acc = []\n",
        "        self.val_acc = []\n",
        "        self.train_loss = []\n",
        "        self.val_loss = []\n",
        "        self.recall = []\n",
        "        self.auc_roc = []\n",
        "\n",
        "class CNN_L(pl.LightningModule):\n",
        "    def __init__(self, lr=0.001, loss_fn=nn.CrossEntropyLoss()):\n",
        "        super(CNN_L, self).__init__()\n",
        "        self.save_hyperparameters()\n",
        "        self.lr = lr\n",
        "        self.loss_fn = loss_fn\n",
        "        self.predictions = None\n",
        "        self.y = None\n",
        "        self.y_score = None\n",
        "        self.metrics = {}\n",
        "\n",
        "        self.LeNet = nn.Sequential(\n",
        "            nn.Sequential(\n",
        "                nn.Conv2d(in_channels=1, out_channels=6, kernel_size=5, stride=1, padding=0),\n",
        "                nn.BatchNorm2d(num_features=6),\n",
        "                nn.ReLU(),\n",
        "                nn.MaxPool2d(kernel_size=2, stride=2)),\n",
        "            nn.Sequential(\n",
        "                nn.Conv2d(in_channels=6, out_channels=16, kernel_size=5, stride=1, padding=0),\n",
        "                nn.BatchNorm2d(num_features=16),\n",
        "                nn.ReLU(),\n",
        "                nn.MaxPool2d(kernel_size=2, stride=2)),\n",
        "            nn.Flatten(),\n",
        "            nn.Linear(in_features=59536, out_features=120),\n",
        "            nn.ReLU(),\n",
        "            nn.Linear(in_features=120, out_features=84),\n",
        "            nn.ReLU(),\n",
        "            nn.Linear(in_features=84, out_features=2)\n",
        "        )\n",
        "\n",
        "    def training_step(self, batch, batch_idx):\n",
        "        '''\n",
        "        This is an inherited method from LightningModule, do not change its name.\n",
        "    \n",
        "        Parameters:\n",
        "            - batch: The output of your data iterable, normally a DataLoader.\n",
        "            - batch_idx: The index of this batch.\n",
        "        '''\n",
        "        logging.debug(f\"currently at {batch_idx}-th batch\")\n",
        "        inputs, labels = batch\n",
        "        outputs = self(inputs)\n",
        "        loss = self.loss_fn(outputs, labels)  \n",
        "        _, predicted = torch.max(outputs, 1)\n",
        "        acc = (predicted == labels).sum().item() / labels.size(0)\n",
        "        logging.debug(f\"prediction = {predicted}, acc = {acc}\")\n",
        "        self.log('train_loss', loss, prog_bar=True)\n",
        "        self.log('train_acc', acc, prog_bar=True)\n",
        "    \n",
        "        return loss\n",
        "\n",
        "    def validation_step(self, batch, batch_idx):\n",
        "        inputs, labels = batch\n",
        "        outputs = self(inputs)\n",
        "        loss = self.loss_fn(outputs, labels)\n",
        "    \n",
        "        _, predicted = torch.max(outputs, 1)\n",
        "        acc = (predicted == labels).sum().item() / labels.size(0)\n",
        "    \n",
        "        self.log('val_loss', loss, prog_bar=True)\n",
        "        self.log('val_acc', acc, prog_bar=True)\n",
        "\n",
        "        return loss\n",
        "\n",
        "    def configure_optimizers(self):\n",
        "        '''\n",
        "        This is an inherited method from LightningModule, do not change its name.\n",
        "        '''\n",
        "        optimizer = optim.SGD(self.parameters(), lr = self.lr, momentum=0.9)\n",
        "        return optimizer\n",
        "\n",
        "    def forward(self, x):\n",
        "        out = self.LeNet(x)\n",
        "        \n",
        "        # logging.debug(f\"Input shape: {x.shape}, Output shape: {out.shape}\")\n",
        "        \n",
        "        return out"
      ]
    },
    {
      "cell_type": "code",
      "execution_count": 16,
      "metadata": {},
      "outputs": [
        {
          "name": "stderr",
          "output_type": "stream",
          "text": [
            "2024-05-18 13:17:37,921:INFO:GPU available: True (mps), used: True\n",
            "2024-05-18 13:17:37,922:INFO:TPU available: False, using: 0 TPU cores\n",
            "2024-05-18 13:17:37,922:INFO:IPU available: False, using: 0 IPUs\n",
            "2024-05-18 13:17:37,922:INFO:HPU available: False, using: 0 HPUs\n",
            "2024-05-18 13:17:37,952:INFO:\n",
            "  | Name    | Type             | Params\n",
            "---------------------------------------------\n",
            "0 | loss_fn | CrossEntropyLoss | 0     \n",
            "1 | LeNet   | Sequential       | 7.2 M \n",
            "---------------------------------------------\n",
            "7.2 M     Trainable params\n",
            "0         Non-trainable params\n",
            "7.2 M     Total params\n",
            "28.630    Total estimated model params size (MB)\n"
          ]
        },
        {
          "name": "stdout",
          "output_type": "stream",
          "text": [
            "Epoch 1: 100%|██████████| 702/702 [02:02<00:00,  5.75it/s, v_num=48, train_loss=0.250, train_acc=1.000, val_loss=0.247, val_acc=0.901]  "
          ]
        },
        {
          "name": "stderr",
          "output_type": "stream",
          "text": [
            "2024-05-18 13:21:42,808:INFO:`Trainer.fit` stopped: `max_epochs=2` reached.\n"
          ]
        },
        {
          "name": "stdout",
          "output_type": "stream",
          "text": [
            "Epoch 1: 100%|██████████| 702/702 [02:02<00:00,  5.75it/s, v_num=48, train_loss=0.250, train_acc=1.000, val_loss=0.247, val_acc=0.901]\n"
          ]
        },
        {
          "data": {
            "image/png": "[encoded data removed]",
            "text/plain": [
              "<Figure size 2000x1000 with 8 Axes>"
            ]
          },
          "metadata": {},
          "output_type": "display_data"
        }
      ],
      "source": [
        "# Runs the model with different hyperparameters \n",
        "def run_model_for_hyperparams(epochs, hyperparams_list, train_dataloader, val_dataloader):\n",
        "    results = {\n",
        "        'train_acc': {},\n",
        "        'val_acc': {},\n",
        "        'train_loss': {},\n",
        "        'val_loss': {},\n",
        "        'recall': {},\n",
        "        'auc_roc': {}\n",
        "    }\n",
        "    \n",
        "    for hyperparams in hyperparams_list:\n",
        "        metric_logger = MetricLogger()\n",
        "        metric_logger.reset_metrics()\n",
        "        cnn = CNN_L(lr=hyperparams['lr'])\n",
        "        \n",
        "        # CHANGE MAX EPOCHS!!!\n",
        "        trainer = pl.Trainer(max_epochs= epochs, callbacks=[metric_logger], num_sanity_val_steps=0, devices='auto')\n",
        "        trainer.fit(model=cnn, train_dataloaders=train_dataloader, val_dataloaders=val_dataloader)\n",
        "        \n",
        "        key = f\"lr_{hyperparams['lr']}\"\n",
        "        results['train_acc'][key] = [0] + metric_logger.train_acc  # Add initial data point at epoch 0\n",
        "        results['val_acc'][key] = [0] + metric_logger.val_acc    \n",
        "        results['train_loss'][key] = [0] + metric_logger.train_loss \n",
        "        results['val_loss'][key] = [0] + metric_logger.val_loss    \n",
        "        results['recall'][key] = [0] + metric_logger.recall         \n",
        "        results['auc_roc'][key] = [0] + metric_logger.auc_roc \n",
        "            \n",
        "    return results\n",
        "\n",
        "# Test Run w/ Different Learning Rates\n",
        "hyperparams_list = [{'lr': 0.001}, {'lr': 0.01}]\n",
        "num_epochs = 5 # TODO: CHANGE THE MAX NUM OF EPOCHS HERE!\n",
        "results = run_model_for_hyperparams(num_epochs, hyperparams_list, train_dataloader, val_dataloader)\n",
        "\n",
        "# Plot the results\n",
        "fig, axes = plt.subplots(2, 2, figsize=(20, 10))\n",
        "\n",
        "# Plot Accuracy\n",
        "for key in results['train_acc']:    \n",
        "    epochs = [i for i in range(0, num_epochs + 1)]\n",
        "    axes[0, 0].plot(epochs, results['train_acc'][key], label=f'{key}_train_acc', linestyle='dashed')\n",
        "    axes[0, 0].plot(epochs, results['val_acc'][key], label=f'{key}_val_acc', linestyle='solid')\n",
        "\n",
        "axes[0, 0].set_title('Accuracies of Different Hyperparams', fontsize=20)\n",
        "axes[0, 0].legend(loc=\"lower right\", fontsize=12)\n",
        "axes[0, 0].set_xlabel(\"epoch\", fontsize=16)\n",
        "axes[0, 0].set_ylabel(\"accuracy\", fontsize=16)\n",
        "axes[0, 0].set_xlim(0, 1)  # Set x-axis limits to start from 0\n",
        "\n",
        "# Plot Loss\n",
        "for key in results['train_loss']:\n",
        "    epochs = [i for i in range(0, num_epochs + 1)]\n",
        "    axes[0, 1].plot(epochs, results['train_loss'][key], label=f'{key}_train_loss', linestyle='dashed')\n",
        "    axes[0, 1].plot(epochs, results['val_loss'][key], label=f'{key}_val_loss', linestyle='solid')\n",
        "\n",
        "axes[0, 1].set_title('Losses of Different Hyperparams', fontsize=20)\n",
        "axes[0, 1].legend(loc=\"upper right\", fontsize=12)\n",
        "axes[0, 1].set_xlabel(\"epoch\", fontsize=16)\n",
        "axes[0, 1].set_ylabel(\"loss\", fontsize=16)\n",
        "axes[0, 1].set_xlim(0, 1) \n",
        "\n",
        "# Plot Recall\n",
        "for key in results['recall']:\n",
        "    epochs = [i for i in range(0, num_epochs + 1)]\n",
        "    axes[1, 0].plot(epochs, results['recall'][key], label=f'{key}_recall', linestyle='solid')\n",
        "\n",
        "axes[1, 0].set_title('Recall of Different Hyperparams', fontsize=20)\n",
        "axes[1, 0].legend(loc=\"lower right\", fontsize=12)\n",
        "axes[1, 0].set_xlabel(\"epoch\", fontsize=16)\n",
        "axes[1, 0].set_ylabel(\"recall\", fontsize=16)\n",
        "axes[1, 0].set_xlim(0, 1) \n",
        "\n",
        "# Plot AUC-ROC\n",
        "for key in results['auc_roc']:\n",
        "    epochs = [i for i in range(0, num_epochs + 1)]\n",
        "    axes[1, 1].plot(epochs, results['auc_roc'][key], label=f'{key}_auc_roc', linestyle='solid')\n",
        "\n",
        "axes[1, 1].set_title('AUC-ROC of Different Hyperparams', fontsize=20)\n",
        "axes[1, 1].legend(loc=\"lower right\", fontsize=12)\n",
        "axes[1, 1].set_xlabel(\"epoch\", fontsize=16)\n",
        "axes[1, 1].set_ylabel(\"auc_roc\", fontsize=16)\n",
        "axes[1, 1].set_xlim(0, 1)\n",
        "\n",
        "plt.tight_layout()\n",
        "plt.show()"
      ]
    }
  ],
  "metadata": {
    "colab": {
      "collapsed_sections": [
        "yE_va1ct9oFB"
      ],
      "include_colab_link": true,
      "provenance": [],
      "toc_visible": true
    },
    "kernelspec": {
      "display_name": "Python 3",
      "name": "python3"
    },
    "language_info": {
      "codemirror_mode": {
        "name": "ipython",
        "version": 3
      },
      "file_extension": ".py",
      "mimetype": "text/x-python",
      "name": "python",
      "nbconvert_exporter": "python",
      "pygments_lexer": "ipython3",
      "version": "3.9.6"
    }
  },
  "nbformat": 4,
  "nbformat_minor": 0
}
